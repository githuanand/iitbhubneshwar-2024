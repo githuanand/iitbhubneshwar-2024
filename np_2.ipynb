{
 "cells": [
  {
   "cell_type": "code",
   "execution_count": 1,
   "id": "446f95bd",
   "metadata": {},
   "outputs": [],
   "source": [
    "import numpy as np"
   ]
  },
  {
   "cell_type": "code",
   "execution_count": 3,
   "id": "68d0accd",
   "metadata": {},
   "outputs": [
    {
     "data": {
      "text/plain": [
       "array([[0, 1, 2],\n",
       "       [3, 4, 5],\n",
       "       [6, 7, 8]])"
      ]
     },
     "execution_count": 3,
     "metadata": {},
     "output_type": "execute_result"
    }
   ],
   "source": [
    "arr=np.arange(9)\n",
    "arr=arr.reshape(3,3)\n",
    "arr"
   ]
  },
  {
   "cell_type": "code",
   "execution_count": 4,
   "id": "62901660",
   "metadata": {},
   "outputs": [
    {
     "data": {
      "text/plain": [
       "2"
      ]
     },
     "execution_count": 4,
     "metadata": {},
     "output_type": "execute_result"
    }
   ],
   "source": [
    "arr[0][2]#return the element in row 0 colum 2\n",
    "arr[0,2]#return the element in row 0 colum 2"
   ]
  },
  {
   "cell_type": "code",
   "execution_count": 7,
   "id": "d78fff65",
   "metadata": {},
   "outputs": [
    {
     "data": {
      "text/plain": [
       "array([[3, 4],\n",
       "       [6, 7]])"
      ]
     },
     "execution_count": 7,
     "metadata": {},
     "output_type": "execute_result"
    }
   ],
   "source": [
    "arr[1:,:2]#index slicing to get sub matrix"
   ]
  },
  {
   "cell_type": "code",
   "execution_count": 8,
   "id": "633de42a",
   "metadata": {},
   "outputs": [
    {
     "data": {
      "text/plain": [
       "array([18, 19, 20, 21, 22, 23, 24])"
      ]
     },
     "execution_count": 8,
     "metadata": {},
     "output_type": "execute_result"
    }
   ],
   "source": [
    "arr=np.arange(10,25)\n",
    "bool_arr=arr>17#makes a boolean array checking that conditon\n",
    "arr[bool_arr]"
   ]
  },
  {
   "cell_type": "markdown",
   "id": "25e1e9fc",
   "metadata": {},
   "source": [
    "# Array operations\n"
   ]
  },
  {
   "cell_type": "code",
   "execution_count": 12,
   "id": "f7ea1dc8",
   "metadata": {},
   "outputs": [
    {
     "name": "stderr",
     "output_type": "stream",
     "text": [
      "C:\\Users\\adipu\\AppData\\Local\\Temp\\ipykernel_19548\\2801925547.py:9: RuntimeWarning: invalid value encountered in divide\n",
      "  arr/arr#gives warning when zero is divided\n"
     ]
    },
    {
     "data": {
      "text/plain": [
       "array([   0,    1,    8,   27,   64,  125,  216,  343,  512,  729, 1000],\n",
       "      dtype=int32)"
      ]
     },
     "execution_count": 12,
     "metadata": {},
     "output_type": "execute_result"
    }
   ],
   "source": [
    "arr=np.arange(11)\n",
    "arr\n",
    "arr+arr\n",
    "arr-arr\n",
    "arr+50\n",
    "arr*2\n",
    "arr/4\n",
    "arr*arr\n",
    "arr/arr#gives warning when zero is divided\n",
    "arr**3"
   ]
  },
  {
   "cell_type": "markdown",
   "id": "16e6440f",
   "metadata": {},
   "source": [
    "# some universal functions"
   ]
  },
  {
   "cell_type": "code",
   "execution_count": 11,
   "id": "35423728",
   "metadata": {},
   "outputs": [
    {
     "data": {
      "text/plain": [
       "array([0.        , 0.69314718, 1.09861229, 1.38629436, 1.60943791])"
      ]
     },
     "execution_count": 11,
     "metadata": {},
     "output_type": "execute_result"
    }
   ],
   "source": [
    "arr=np.arange(1,6)\n",
    "np.sqrt(arr)\n",
    "np.exp(arr)\n",
    "np.max(arr)\n",
    "np.sin(arr)\n",
    "np.cos(arr)\n",
    "np.log(arr)"
   ]
  }
 ],
 "metadata": {
  "kernelspec": {
   "display_name": "Python 3 (ipykernel)",
   "language": "python",
   "name": "python3"
  },
  "language_info": {
   "codemirror_mode": {
    "name": "ipython",
    "version": 3
   },
   "file_extension": ".py",
   "mimetype": "text/x-python",
   "name": "python",
   "nbconvert_exporter": "python",
   "pygments_lexer": "ipython3",
   "version": "3.11.4"
  }
 },
 "nbformat": 4,
 "nbformat_minor": 5
}
