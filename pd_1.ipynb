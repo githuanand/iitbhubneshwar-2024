{
 "cells": [
  {
   "cell_type": "code",
   "execution_count": 1,
   "id": "22cf8b00",
   "metadata": {},
   "outputs": [],
   "source": [
    "import numpy as np\n",
    "import pandas as pd"
   ]
  },
  {
   "cell_type": "code",
   "execution_count": 2,
   "id": "bb4dda1c",
   "metadata": {},
   "outputs": [
    {
     "data": {
      "text/plain": [
       "0    a\n",
       "1    b\n",
       "2    c\n",
       "dtype: object"
      ]
     },
     "execution_count": 2,
     "metadata": {},
     "output_type": "execute_result"
    }
   ],
   "source": [
    "labels=[\"a\",\"b\",\"c\"]\n",
    "mydata=[10,20,30]\n",
    "pd.Series(data=mydata)#series from list\n",
    "pd.Series(data=mydata,index=labels)#series from a list and index\n",
    "pd.Series(labels)#series with positional argument"
   ]
  },
  {
   "cell_type": "code",
   "execution_count": 3,
   "id": "e9b86b62",
   "metadata": {},
   "outputs": [
    {
     "data": {
      "text/plain": [
       "a    10\n",
       "b    20\n",
       "c    30\n",
       "dtype: int64"
      ]
     },
     "execution_count": 3,
     "metadata": {},
     "output_type": "execute_result"
    }
   ],
   "source": [
    "arr=np.array(mydata)\n",
    "dic={\"a\":10,\"b\":20,\"c\":30}\n",
    "pd.Series(arr)#series from a numpy array\n",
    "pd.Series(dic)#series from a dictionary"
   ]
  },
  {
   "cell_type": "code",
   "execution_count": 4,
   "id": "79fe4dc8",
   "metadata": {},
   "outputs": [
    {
     "data": {
      "text/plain": [
       "1"
      ]
     },
     "execution_count": 4,
     "metadata": {},
     "output_type": "execute_result"
    }
   ],
   "source": [
    "ser1=pd.Series([1,2,3,4],[\"USA\",\"Japan\",\"Germany\",\"Italy\"])\n",
    "ser1[\"USA\"]#indexing in series is like a dictionary"
   ]
  },
  {
   "cell_type": "code",
   "execution_count": 5,
   "id": "9dfce5ba",
   "metadata": {},
   "outputs": [
    {
     "data": {
      "text/plain": [
       "France     NaN\n",
       "Germany    6.0\n",
       "Italy      8.0\n",
       "Japan      NaN\n",
       "USA        2.0\n",
       "dtype: float64"
      ]
     },
     "execution_count": 5,
     "metadata": {},
     "output_type": "execute_result"
    }
   ],
   "source": [
    "ser2=pd.Series([1,3,5,4],[\"USA\",\"Germany\",\"France\",\"Italy\"])\n",
    "ser1+ser2"
   ]
  }
 ],
 "metadata": {
  "kernelspec": {
   "display_name": "Python 3 (ipykernel)",
   "language": "python",
   "name": "python3"
  },
  "language_info": {
   "codemirror_mode": {
    "name": "ipython",
    "version": 3
   },
   "file_extension": ".py",
   "mimetype": "text/x-python",
   "name": "python",
   "nbconvert_exporter": "python",
   "pygments_lexer": "ipython3",
   "version": "3.11.4"
  }
 },
 "nbformat": 4,
 "nbformat_minor": 5
}
