{
  "nbformat": 4,
  "nbformat_minor": 0,
  "metadata": {
    "colab": {
      "provenance": [],
      "authorship_tag": "ABX9TyO7CEdgRPCroblhZKo+743r",
      "include_colab_link": true
    },
    "kernelspec": {
      "name": "python3",
      "display_name": "Python 3"
    },
    "language_info": {
      "name": "python"
    }
  },
  "cells": [
    {
      "cell_type": "markdown",
      "metadata": {
        "id": "view-in-github",
        "colab_type": "text"
      },
      "source": [
        "<a href=\"https://colab.research.google.com/github/githuanand/IIT-BHUBNESHWAR-DAY-01/blob/main/python_basics_1.ipynb\" target=\"_parent\"><img src=\"https://colab.research.google.com/assets/colab-badge.svg\" alt=\"Open In Colab\"/></a>"
      ]
    },
    {
      "cell_type": "markdown",
      "source": [
        "### ***IIT BHUBANESHWAR WORKSHOP ON AI-ML WITH DATA SCIENCE***"
      ],
      "metadata": {
        "id": "4ty2EyF9uMcF"
      }
    },
    {
      "cell_type": "code",
      "source": [
        "print(\"Hello World!!\")"
      ],
      "metadata": {
        "colab": {
          "base_uri": "https://localhost:8080/"
        },
        "id": "lnAR1qldudDk",
        "outputId": "0e5fd1a0-dfe0-465f-af00-985b0b7f1d0a"
      },
      "execution_count": null,
      "outputs": [
        {
          "output_type": "stream",
          "name": "stdout",
          "text": [
            "Hello World!!\n"
          ]
        }
      ]
    },
    {
      "cell_type": "code",
      "source": [
        "x=int(input())"
      ],
      "metadata": {
        "colab": {
          "base_uri": "https://localhost:8080/"
        },
        "id": "cZ0qpgvrwUQ5",
        "outputId": "54ad8cd4-c6c5-4c89-9634-25c2cc14e458"
      },
      "execution_count": null,
      "outputs": [
        {
          "name": "stdout",
          "output_type": "stream",
          "text": [
            "3\n"
          ]
        }
      ]
    },
    {
      "cell_type": "markdown",
      "source": [
        "# **LISTS**"
      ],
      "metadata": {
        "id": "bppghSZW17nv"
      }
    },
    {
      "cell_type": "code",
      "source": [
        "arr=[1,2,3,43,50,67] #initialising a list\n",
        "print(arr[0])#indexing a list(zero based indexing)\n",
        "print(arr[2:]) #slicing a list\n",
        "print(arr[2:5:2]) #slicing a list(start index,end index,step size)\n",
        "print(len(arr))#length of the index\n",
        "print(arr.pop())#pops the last element\n",
        "arr.append(101) #appends the element to the last of the list\n",
        "print(arr)\n",
        "arr.sort() #sorts in place\n",
        "sorted(arr) #return a copy of the sorted arr"
      ],
      "metadata": {
        "colab": {
          "base_uri": "https://localhost:8080/"
        },
        "id": "RhlRH3KcxLSb",
        "outputId": "ab83c5c9-4463-4d23-e279-6dd3049634bd"
      },
      "execution_count": null,
      "outputs": [
        {
          "output_type": "stream",
          "name": "stdout",
          "text": [
            "1\n",
            "[3, 43, 50, 67]\n",
            "[3, 50]\n",
            "6\n",
            "67\n",
            "[1, 2, 3, 43, 50, 101]\n"
          ]
        },
        {
          "output_type": "execute_result",
          "data": {
            "text/plain": [
              "[1, 2, 3, 43, 50, 101]"
            ]
          },
          "metadata": {},
          "execution_count": 8
        }
      ]
    },
    {
      "cell_type": "code",
      "source": [
        "#FOR LOOPS\n",
        "for i in range(3,9,3):\n",
        "  print(i)\n",
        "for i in arr:\n",
        "  print(i,end=\" \")"
      ],
      "metadata": {
        "colab": {
          "base_uri": "https://localhost:8080/"
        },
        "id": "3WA03DIszMvG",
        "outputId": "755ed3cc-9ed7-47f1-c4f4-5ce9cfecf701"
      },
      "execution_count": null,
      "outputs": [
        {
          "output_type": "stream",
          "name": "stdout",
          "text": [
            "3\n",
            "6\n"
          ]
        }
      ]
    },
    {
      "cell_type": "code",
      "source": [
        "for i in arr:\n",
        "  print(i,end=\" \")"
      ],
      "metadata": {
        "colab": {
          "base_uri": "https://localhost:8080/"
        },
        "id": "S4BC0A8lzZTA",
        "outputId": "bdb5ec8c-cfb0-4d2d-89b2-ecb3d8d2d7e7"
      },
      "execution_count": null,
      "outputs": [
        {
          "output_type": "stream",
          "name": "stdout",
          "text": [
            "1 2 3 43 50 101 "
          ]
        }
      ]
    },
    {
      "cell_type": "code",
      "source": [
        "#while loops\n",
        "\n",
        "i=0\n",
        "while i<5:\n",
        "  print(i)\n",
        "  i+=1\n",
        "  #condition:"
      ],
      "metadata": {
        "colab": {
          "base_uri": "https://localhost:8080/"
        },
        "id": "8LgF12gczh7M",
        "outputId": "72ce7c70-3506-4917-d641-6263b2c1eadf"
      },
      "execution_count": null,
      "outputs": [
        {
          "output_type": "stream",
          "name": "stdout",
          "text": [
            "0\n",
            "1\n",
            "2\n",
            "3\n",
            "4\n"
          ]
        }
      ]
    },
    {
      "cell_type": "code",
      "source": [
        "while arr:\n",
        "  print(arr.pop())"
      ],
      "metadata": {
        "colab": {
          "base_uri": "https://localhost:8080/"
        },
        "id": "TahVh4xfzx1z",
        "outputId": "cc2e346d-ae59-43eb-fd45-139c8ce0a319"
      },
      "execution_count": null,
      "outputs": [
        {
          "output_type": "stream",
          "name": "stdout",
          "text": [
            "101\n",
            "50\n",
            "43\n",
            "3\n",
            "2\n",
            "1\n"
          ]
        }
      ]
    },
    {
      "cell_type": "code",
      "source": [
        "#TUPLES\n",
        "tuple=(1,2,3)\n",
        "arr=[1,2,3]\n",
        "s='hello world'\n"
      ],
      "metadata": {
        "id": "G0rEGiRlz2nj"
      },
      "execution_count": null,
      "outputs": []
    },
    {
      "cell_type": "markdown",
      "source": [
        "# ***Strings***"
      ],
      "metadata": {
        "id": "xuHmFlDW0qtx"
      }
    },
    {
      "cell_type": "code",
      "source": [
        "s='hello t world'"
      ],
      "metadata": {
        "id": "MZOnx_3f0uVI"
      },
      "execution_count": null,
      "outputs": []
    },
    {
      "cell_type": "code",
      "source": [
        "print(s[1])\n",
        "print(s[4:])\n",
        "print(s[4:10])\n",
        "s.split('l')\n",
        "s.split()"
      ],
      "metadata": {
        "colab": {
          "base_uri": "https://localhost:8080/"
        },
        "id": "sfBdlShD0xIn",
        "outputId": "db408530-638c-4e57-d95c-b3bf524fbdb8"
      },
      "execution_count": null,
      "outputs": [
        {
          "output_type": "stream",
          "name": "stdout",
          "text": [
            "e\n",
            "o t world\n",
            "o t wo\n"
          ]
        },
        {
          "output_type": "execute_result",
          "data": {
            "text/plain": [
              "['hello', 't', 'world']"
            ]
          },
          "metadata": {},
          "execution_count": 24
        }
      ]
    },
    {
      "cell_type": "code",
      "source": [
        "dict={'a':1,'b':2,'c':3}"
      ],
      "metadata": {
        "id": "6YmqpT-a1Glm"
      },
      "execution_count": null,
      "outputs": []
    },
    {
      "cell_type": "code",
      "source": [
        "dict['a']='2'\n",
        "dict['a']"
      ],
      "metadata": {
        "colab": {
          "base_uri": "https://localhost:8080/",
          "height": 35
        },
        "id": "RO3P0Ql21SZL",
        "outputId": "7eaf4c21-3a3d-4cda-de96-1a63f5bacc7f"
      },
      "execution_count": null,
      "outputs": [
        {
          "output_type": "execute_result",
          "data": {
            "text/plain": [
              "'2'"
            ],
            "application/vnd.google.colaboratory.intrinsic+json": {
              "type": "string"
            }
          },
          "metadata": {},
          "execution_count": 27
        }
      ]
    },
    {
      "cell_type": "markdown",
      "source": [
        "# ***FUNCTIONS***"
      ],
      "metadata": {
        "id": "mt8sN8uj2Old"
      }
    },
    {
      "cell_type": "code",
      "source": [
        "def hello():\n",
        "  print('hello world')"
      ],
      "metadata": {
        "id": "O8rpZaHF1d2w"
      },
      "execution_count": null,
      "outputs": []
    },
    {
      "cell_type": "code",
      "source": [
        "hello()"
      ],
      "metadata": {
        "colab": {
          "base_uri": "https://localhost:8080/"
        },
        "id": "DjkqFo1y1k2w",
        "outputId": "7f70473b-5cd1-4e00-b7d3-a424ef185c40"
      },
      "execution_count": null,
      "outputs": [
        {
          "output_type": "stream",
          "name": "stdout",
          "text": [
            "hello world\n"
          ]
        }
      ]
    },
    {
      "cell_type": "markdown",
      "source": [
        "# ***NUMPY-MODULE 1***"
      ],
      "metadata": {
        "id": "Ajmvftd_8vsU"
      }
    },
    {
      "cell_type": "code",
      "source": [
        "import numpy as np"
      ],
      "metadata": {
        "id": "ttVLdaFH8c7l"
      },
      "execution_count": null,
      "outputs": []
    },
    {
      "cell_type": "code",
      "source": [
        "arr=np.arange(9)\n",
        "arr=arr.reshape(3,3)\n",
        "arr"
      ],
      "metadata": {
        "colab": {
          "base_uri": "https://localhost:8080/"
        },
        "id": "RMLOzd_K68WO",
        "outputId": "da707564-fe0d-402e-b0d5-28c4d77e9588"
      },
      "execution_count": null,
      "outputs": [
        {
          "output_type": "execute_result",
          "data": {
            "text/plain": [
              "array([[0, 1, 2],\n",
              "       [3, 4, 5],\n",
              "       [6, 7, 8]])"
            ]
          },
          "metadata": {},
          "execution_count": 46
        }
      ]
    },
    {
      "cell_type": "code",
      "source": [
        "arr[0][2]#return the element in row 0 colum 2\n",
        "arr[0,2]#return the element in row 0 colum 2"
      ],
      "metadata": {
        "colab": {
          "base_uri": "https://localhost:8080/"
        },
        "id": "4QbGnss57BP7",
        "outputId": "361412a1-9f38-4bc8-fba5-fa6bb292a438"
      },
      "execution_count": null,
      "outputs": [
        {
          "output_type": "execute_result",
          "data": {
            "text/plain": [
              "2"
            ]
          },
          "metadata": {},
          "execution_count": 38
        }
      ]
    },
    {
      "cell_type": "code",
      "source": [
        "arr[1:,:2]#index slicing to get sub matrix"
      ],
      "metadata": {
        "colab": {
          "base_uri": "https://localhost:8080/"
        },
        "id": "iGoPpfsY7IOC",
        "outputId": "14d4cde2-e778-48db-e8a3-5a441212910b"
      },
      "execution_count": null,
      "outputs": [
        {
          "output_type": "execute_result",
          "data": {
            "text/plain": [
              "array([[3, 4],\n",
              "       [6, 7]])"
            ]
          },
          "metadata": {},
          "execution_count": 39
        }
      ]
    },
    {
      "cell_type": "code",
      "source": [
        "arr=np.arange(10,25)\n",
        "bool_arr=arr>17#makes a boolean array checking that conditon\n",
        "arr[bool_arr]"
      ],
      "metadata": {
        "colab": {
          "base_uri": "https://localhost:8080/"
        },
        "id": "8TUJts6b7KPv",
        "outputId": "b2f70536-9af7-4a93-c03c-9799b6d0c6cb"
      },
      "execution_count": null,
      "outputs": [
        {
          "output_type": "execute_result",
          "data": {
            "text/plain": [
              "array([18, 19, 20, 21, 22, 23, 24])"
            ]
          },
          "metadata": {},
          "execution_count": 40
        }
      ]
    },
    {
      "cell_type": "markdown",
      "source": [
        "# **Array operations**\n"
      ],
      "metadata": {
        "id": "oJCOmAXj7SgK"
      }
    },
    {
      "cell_type": "code",
      "source": [
        "arr=np.arange(11)\n",
        "arr\n",
        "arr+arr\n",
        "arr-arr\n",
        "arr+50\n",
        "arr*2\n",
        "arr/4\n",
        "arr*arr\n",
        "arr/arr#gives warning when zero is divided\n",
        "arr**3"
      ],
      "metadata": {
        "colab": {
          "base_uri": "https://localhost:8080/"
        },
        "id": "SJfVNxdZ7o_C",
        "outputId": "7e9158f4-d433-4a94-eac6-3587b8393150"
      },
      "execution_count": null,
      "outputs": [
        {
          "output_type": "stream",
          "name": "stderr",
          "text": [
            "<ipython-input-41-b023bf7f9c7c>:9: RuntimeWarning: invalid value encountered in divide\n",
            "  arr/arr#gives warning when zero is divided\n"
          ]
        },
        {
          "output_type": "execute_result",
          "data": {
            "text/plain": [
              "array([   0,    1,    8,   27,   64,  125,  216,  343,  512,  729, 1000])"
            ]
          },
          "metadata": {},
          "execution_count": 41
        }
      ]
    },
    {
      "cell_type": "code",
      "source": [
        "#some universal functions\n",
        "arr=np.arange(1,6)\n",
        "np.sqrt(arr)\n",
        "np.exp(arr)\n",
        "np.max(arr)\n",
        "np.sin(arr)\n",
        "np.cos(arr)\n",
        "np.log(arr)\n",
        "np.tan(arr)\n"
      ],
      "metadata": {
        "colab": {
          "base_uri": "https://localhost:8080/"
        },
        "id": "RdB-9msa7vRX",
        "outputId": "80764f81-4291-4f16-dcf5-d53acaba5e7b"
      },
      "execution_count": null,
      "outputs": [
        {
          "output_type": "execute_result",
          "data": {
            "text/plain": [
              "array([ 1.55740772, -2.18503986, -0.14254654,  1.15782128, -3.38051501])"
            ]
          },
          "metadata": {},
          "execution_count": 47
        }
      ]
    }
  ]
}