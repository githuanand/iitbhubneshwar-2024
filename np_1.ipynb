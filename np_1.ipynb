{
 "cells": [
  {
   "cell_type": "code",
   "execution_count": 1,
   "id": "74cefc2e",
   "metadata": {},
   "outputs": [],
   "source": [
    "import numpy as np"
   ]
  },
  {
   "cell_type": "code",
   "execution_count": 4,
   "id": "d2537ac6",
   "metadata": {},
   "outputs": [
    {
     "data": {
      "text/plain": [
       "array([1, 2, 3])"
      ]
     },
     "execution_count": 4,
     "metadata": {},
     "output_type": "execute_result"
    }
   ],
   "source": [
    "lst=[1,2,3]\n",
    "np.array(lst) #make array from list"
   ]
  },
  {
   "cell_type": "code",
   "execution_count": 5,
   "id": "a78fed53",
   "metadata": {},
   "outputs": [
    {
     "data": {
      "text/plain": [
       "array([[1, 2, 3],\n",
       "       [4, 5, 6]])"
      ]
     },
     "execution_count": 5,
     "metadata": {},
     "output_type": "execute_result"
    }
   ],
   "source": [
    "my_mat=[[1,2,3],[4,5,6]]\n",
    "np.array(my_mat)#multi dimensional array from list of list"
   ]
  },
  {
   "cell_type": "code",
   "execution_count": 6,
   "id": "ec4146f4",
   "metadata": {},
   "outputs": [
    {
     "data": {
      "text/plain": [
       "array([ 0,  2,  4,  6,  8, 10])"
      ]
     },
     "execution_count": 6,
     "metadata": {},
     "output_type": "execute_result"
    }
   ],
   "source": [
    "np.arange(0,11,2)#same as range function but returns array"
   ]
  },
  {
   "cell_type": "code",
   "execution_count": 7,
   "id": "062dc4c9",
   "metadata": {},
   "outputs": [
    {
     "data": {
      "text/plain": [
       "array([[0., 0., 0., 0.],\n",
       "       [0., 0., 0., 0.],\n",
       "       [0., 0., 0., 0.]])"
      ]
     },
     "execution_count": 7,
     "metadata": {},
     "output_type": "execute_result"
    }
   ],
   "source": [
    "np.zeros((3,4))#returns a zero array of given dim"
   ]
  },
  {
   "cell_type": "code",
   "execution_count": 9,
   "id": "93e0f789",
   "metadata": {},
   "outputs": [
    {
     "data": {
      "text/plain": [
       "array([[1., 1., 1.],\n",
       "       [1., 1., 1.]])"
      ]
     },
     "execution_count": 9,
     "metadata": {},
     "output_type": "execute_result"
    }
   ],
   "source": [
    "np.ones((2,3))#returns a one array of given dim"
   ]
  },
  {
   "cell_type": "code",
   "execution_count": 10,
   "id": "9f48d2b0",
   "metadata": {},
   "outputs": [
    {
     "data": {
      "text/plain": [
       "array([[1., 0., 0., 0.],\n",
       "       [0., 1., 0., 0.],\n",
       "       [0., 0., 1., 0.],\n",
       "       [0., 0., 0., 1.]])"
      ]
     },
     "execution_count": 10,
     "metadata": {},
     "output_type": "execute_result"
    }
   ],
   "source": [
    "np.eye(4)#returns an identity array of given dim"
   ]
  },
  {
   "cell_type": "code",
   "execution_count": 12,
   "id": "7894da23",
   "metadata": {},
   "outputs": [
    {
     "data": {
      "text/plain": [
       "array([0. , 0.5, 1. , 1.5, 2. , 2.5, 3. , 3.5, 4. , 4.5, 5. ])"
      ]
     },
     "execution_count": 12,
     "metadata": {},
     "output_type": "execute_result"
    }
   ],
   "source": [
    "np.linspace(0,5,11)#returns a 1D array of equispaced points"
   ]
  },
  {
   "cell_type": "code",
   "execution_count": 13,
   "id": "08c0aeb0",
   "metadata": {},
   "outputs": [
    {
     "data": {
      "text/plain": [
       "array([[0.33288929, 0.18927684],\n",
       "       [0.46731173, 0.4329226 ],\n",
       "       [0.96971802, 0.15102625],\n",
       "       [0.15333597, 0.58365489],\n",
       "       [0.27797493, 0.57409273]])"
      ]
     },
     "execution_count": 13,
     "metadata": {},
     "output_type": "execute_result"
    }
   ],
   "source": [
    "np.random.rand(5,2)#returns number between 0 and 1 which are equally probable"
   ]
  },
  {
   "cell_type": "code",
   "execution_count": 14,
   "id": "abadf3bb",
   "metadata": {},
   "outputs": [
    {
     "data": {
      "text/plain": [
       "array([ 1.20560251, -0.80045805,  0.61696019,  0.11102481,  1.27034587,\n",
       "       -0.13109972, -1.05546871,  0.68810536,  0.16561684,  2.20426466])"
      ]
     },
     "execution_count": 14,
     "metadata": {},
     "output_type": "execute_result"
    }
   ],
   "source": [
    "np.random.randn(10)#returns number from gausian or normal distribution"
   ]
  },
  {
   "cell_type": "code",
   "execution_count": 15,
   "id": "f8721646",
   "metadata": {},
   "outputs": [
    {
     "data": {
      "text/plain": [
       "array([ 5,  7,  9, 10,  7,  6,  9,  8,  9,  5])"
      ]
     },
     "execution_count": 15,
     "metadata": {},
     "output_type": "execute_result"
    }
   ],
   "source": [
    "np.random.randint(5,11,10)#returns random integers"
   ]
  },
  {
   "cell_type": "code",
   "execution_count": 18,
   "id": "e0705594",
   "metadata": {},
   "outputs": [
    {
     "data": {
      "text/plain": [
       "array([[ 0,  1,  2,  3,  4],\n",
       "       [ 5,  6,  7,  8,  9],\n",
       "       [10, 11, 12, 13, 14],\n",
       "       [15, 16, 17, 18, 19],\n",
       "       [20, 21, 22, 23, 24]])"
      ]
     },
     "execution_count": 18,
     "metadata": {},
     "output_type": "execute_result"
    }
   ],
   "source": [
    "arr=np.arange(25)\n",
    "arr.reshape(5,5)#you can change shape of array total no. of elements should be equal"
   ]
  },
  {
   "cell_type": "code",
   "execution_count": null,
   "id": "9a27e791",
   "metadata": {},
   "outputs": [],
   "source": [
    "ranarr.max()#returns max element\n",
    "ranarr.min()#returns min element\n",
    "ranarr.argmax()#returns index of max \n",
    "ranarr.argmin()#returns index of min\n",
    "ranarr.std()#returns standard div\n",
    "ranarr.shape # returns sahp"
   ]
  }
 ],
 "metadata": {
  "kernelspec": {
   "display_name": "Python 3 (ipykernel)",
   "language": "python",
   "name": "python3"
  },
  "language_info": {
   "codemirror_mode": {
    "name": "ipython",
    "version": 3
   },
   "file_extension": ".py",
   "mimetype": "text/x-python",
   "name": "python",
   "nbconvert_exporter": "python",
   "pygments_lexer": "ipython3",
   "version": "3.11.4"
  }
 },
 "nbformat": 4,
 "nbformat_minor": 5
}
